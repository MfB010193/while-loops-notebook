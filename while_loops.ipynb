{
 "cells": [
  {
   "cell_type": "code",
   "execution_count": 1,
   "id": "6b060793",
   "metadata": {},
   "outputs": [
    {
     "name": "stdout",
     "output_type": "stream",
     "text": [
      "tell me something about you?am carless\n",
      "am carless\n",
      "what kind of rental car do ouy want? Subar\n",
      " I would like Subar\n",
      "how many peoples are in the dinner group? 9\n",
      "they will have wait to the table\n",
      "give a number that you like? 60\n",
      "60 is a multiple of 10 \n",
      "\n",
      "Tell me something, and I will repeat it back to you:\n",
      "Enter 'quit' to end the program. am smart\n",
      "am smart\n",
      "\n",
      "Tell me something, and I will repeat it back to you:\n",
      "Enter 'quit' to end the program. quit\n",
      "quit\n"
     ]
    }
   ],
   "source": [
    "# user input \n",
    "message = input('tell me something about you?')\n",
    "print(message)\n",
    "\n",
    "#  user input\n",
    "message_1  = input('what kind of rental car do ouy want? ')\n",
    "print(f\" I would like {message_1}\")\n",
    "\n",
    "dinner_group = input('how many peoples are in the dinner group? ')\n",
    "if int(dinner_group) > 8:\n",
    "    print('they will have wait to the table')\n",
    "else:\n",
    "    print('their table is ready')\n",
    "\n",
    "random_num = input('give a number that you like? ')\n",
    "if int(random_num)%10 ==0:\n",
    "    print(f\"{random_num} is a multiple of 10 \")\n",
    "else:\n",
    "    print('it is not multiple of 10')\n",
    "\n",
    "# while loops \n",
    "prompt = \"\\nTell me something, and I will repeat it back to you:\"\n",
    "prompt += \"\\nEnter 'quit' to end the program. \"\n",
    "message = \"\"\n",
    "while message != 'quit':\n",
    "    message = input(prompt)\n",
    "    print(message)\n",
    "\n"
   ]
  },
  {
   "cell_type": "code",
   "execution_count": null,
   "id": "94e87d7f",
   "metadata": {},
   "outputs": [],
   "source": []
  }
 ],
 "metadata": {
  "kernelspec": {
   "display_name": "Python 3 (ipykernel)",
   "language": "python",
   "name": "python3"
  },
  "language_info": {
   "codemirror_mode": {
    "name": "ipython",
    "version": 3
   },
   "file_extension": ".py",
   "mimetype": "text/x-python",
   "name": "python",
   "nbconvert_exporter": "python",
   "pygments_lexer": "ipython3",
   "version": "3.10.9"
  }
 },
 "nbformat": 4,
 "nbformat_minor": 5
}
