{
 "cells": [
  {
   "cell_type": "code",
   "execution_count": 1,
   "id": "2c10c63f",
   "metadata": {},
   "outputs": [
    {
     "name": "stdout",
     "output_type": "stream",
     "text": [
      "Hello!\n",
      "Hello, Melaku\n",
      "we have learned about functions in this chapter.\n",
      "my favorite book is Alice in Wonderland\n"
     ]
    }
   ],
   "source": [
    "def greet_user():\n",
    "    \"Display a simple greeting.\"\n",
    "    print('Hello!')\n",
    "greet_user()\n",
    "\n",
    "def greet_user(username):\n",
    "    \"\"\"display a simple greeting.\"\"\"\n",
    "    print(f'Hello, {username.title()}')\n",
    "greet_user('melaku')\n",
    "\n",
    "# exercise_1\n",
    "def desplay_function():\n",
    "    \"\"\"it tells about what we learnd in this chapter.\"\"\"\n",
    "    print('we have learned about functions in this chapter.')\n",
    "desplay_function()\n",
    "# exercise_2\n",
    "def favorite_book(title):\n",
    "    print(f'my favorite book is {title.title()} in Wonderland')\n",
    "favorite_book('alice')\n",
    "\n"
   ]
  },
  {
   "cell_type": "code",
   "execution_count": null,
   "id": "42d7320f",
   "metadata": {},
   "outputs": [],
   "source": []
  }
 ],
 "metadata": {
  "kernelspec": {
   "display_name": "Python 3 (ipykernel)",
   "language": "python",
   "name": "python3"
  },
  "language_info": {
   "codemirror_mode": {
    "name": "ipython",
    "version": 3
   },
   "file_extension": ".py",
   "mimetype": "text/x-python",
   "name": "python",
   "nbconvert_exporter": "python",
   "pygments_lexer": "ipython3",
   "version": "3.10.9"
  }
 },
 "nbformat": 4,
 "nbformat_minor": 5
}
